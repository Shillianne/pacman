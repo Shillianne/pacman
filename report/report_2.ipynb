{
 "cells": [
  {
   "cell_type": "markdown",
   "id": "902d0f74",
   "metadata": {},
   "source": [
    "## **ALPHA-BETA**"
   ]
  },
  {
   "cell_type": "markdown",
   "id": "09706dae",
   "metadata": {},
   "source": [
    "En esta sección exploraremos la técnica de poda de Alpha-Beta. Un optimizador importante del algoritmo Minimax para la toma de decisiones en juegos. Se cubrirán los siguientes aspectos:\n",
    "1. Introducción general al concepto\n",
    "2. Mecanismo y principios fundamentales\n",
    "3. Algoritmo detallado: pseudocódigo\n",
    "4. Poda Alpha-Beta en el contexto de Pacman\n",
    "5. Beneficios de Alpha-Beta\n",
    "6. Inconvenientes (aun no se que poner)\n"
   ]
  },
  {
   "cell_type": "markdown",
   "id": "4820c6f9",
   "metadata": {},
   "source": [
    "### **1. Introducción general al concepto**"
   ]
  },
  {
   "cell_type": "markdown",
   "id": "00f56504",
   "metadata": {},
   "source": [
    "La poda de Alpha-Beta es una técnica de optimización para el algoritmo de minimax el cual es un algoritmo de  búsqueda que busca disminuir el número de nodos que son explorados por el argoritmo minimax en su árbol de busqueda."
   ]
  },
  {
   "cell_type": "markdown",
   "id": "1e08dc96",
   "metadata": {},
   "source": [
    "### **2. Mecanismo y principios fundamentales**"
   ]
  },
  {
   "cell_type": "markdown",
   "id": "4214c2bd",
   "metadata": {},
   "source": [
    "* Con Alpha-beta podemos lograr el mismo resultado que minimax pero evaluando menos nodos. Esto es posible porque la poda de alpha-beta corta ramas del árbol de búsqueda que posiblemente no pueden influir en la decisión final.\n",
    "* La eficiencia de la poda alpha-beta depende en gran medida del orden en que se evalúan"
   ]
  },
  {
   "cell_type": "markdown",
   "id": "03184aa8",
   "metadata": {},
   "source": [
    "### **3. Algoritmo detallado: pseudocódigo**"
   ]
  },
  {
   "cell_type": "markdown",
   "id": "11b23343",
   "metadata": {},
   "source": [
    "### **4. Poda Alpha-Beta en el contexto de Pacman**"
   ]
  },
  {
   "cell_type": "markdown",
   "id": "398a2133",
   "metadata": {},
   "source": [
    "### **5. Beneficios de Alpha-Beta**"
   ]
  },
  {
   "cell_type": "markdown",
   "id": "df2a367d",
   "metadata": {},
   "source": [
    "### **6. Inconvenientes (aun no se que poner)**"
   ]
  },
  {
   "cell_type": "markdown",
   "id": "9366f41b",
   "metadata": {},
   "source": []
  },
  {
   "cell_type": "markdown",
   "id": "2c25c901",
   "metadata": {},
   "source": []
  },
  {
   "cell_type": "markdown",
   "id": "0c5e10ec",
   "metadata": {},
   "source": []
  },
  {
   "cell_type": "markdown",
   "id": "b9ff81cc",
   "metadata": {},
   "source": []
  },
  {
   "cell_type": "markdown",
   "id": "71295181",
   "metadata": {},
   "source": []
  },
  {
   "cell_type": "markdown",
   "id": "cc4f44eb",
   "metadata": {},
   "source": []
  },
  {
   "cell_type": "markdown",
   "id": "60668ac7",
   "metadata": {},
   "source": []
  }
 ],
 "metadata": {
  "language_info": {
   "name": "python"
  }
 },
 "nbformat": 4,
 "nbformat_minor": 5
}
