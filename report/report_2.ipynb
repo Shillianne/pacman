{
 "cells": [
  {
   "cell_type": "markdown",
   "id": "902d0f74",
   "metadata": {},
   "source": [
    "## **ALPHA-BETA**"
   ]
  },
  {
   "cell_type": "markdown",
   "id": "09706dae",
   "metadata": {},
   "source": [
    "En esta sección exploraremos la técnica de poda de Alpha-Beta. Un optimizador importante del algoritmo Minimax para la toma de decisiones en juegos. Se cubrirán los siguientes aspectos:\n",
    "1. Introducción general al concepto  \n",
    "\n",
    "2. Mecanismo y principios fundamentales  \n",
    "\n",
    "3. Algoritmo detallado: pseudocódigo  \n",
    "\n",
    "4. Poda Alpha-Beta en el contexto de Pacman  \n",
    "\n",
    "5. Beneficios de Alpha-Beta  \n",
    "\n",
    "6. Inconvenientes \n",
    "\n"
   ]
  },
  {
   "cell_type": "markdown",
   "id": "4820c6f9",
   "metadata": {},
   "source": [
    "### **1. Introducción general al concepto**"
   ]
  },
  {
   "cell_type": "markdown",
   "id": "00f56504",
   "metadata": {},
   "source": [
    "La poda de Alpha-Beta es una técnica de optimización para el algoritmo de minimax el cual es un algoritmo de  búsqueda que busca disminuir el número de nodos que son explorados por el algoritmo minimax en su árbol de búsqueda."
   ]
  },
  {
   "cell_type": "markdown",
   "id": "1e08dc96",
   "metadata": {},
   "source": [
    "### **2. Mecanismo y principios fundamentales**"
   ]
  },
  {
   "cell_type": "markdown",
   "id": "4214c2bd",
   "metadata": {},
   "source": [
    "* Con Alpha-beta podemos lograr el mismo resultado que minimax pero evaluando menos nodos. Esto es posible porque la poda de alpha-beta corta ramas del árbol de búsqueda que posiblemente no pueden influir en la decisión final, solo lo hace más rápido.\n",
    "* La eficiencia de la poda alpha-beta depende en gran medida del orden en que se evalúan los movimientos. Un ordenamiento óptimo puede llevar a una poda enorme, mientras que un ordenamiento en el peor de los casos puede llevar a no podar nada.\n",
    "* Mantiene $2$ valores, $\\alpha$ y $\\beta$, que se representan la puntuación máxima y mínima que el jugador tiene asegurada, respectivamente.\n",
    "*   Alpha se asocia con el jugador maximizador (a menudo llamado MAX), y beta se asocia con el jugador minimizador (a menudo llamado MIN).  \n",
    "\n",
    "*   Inicialmente, alfa es infinito negativo y beta es infinito positivo.\n",
    "\n",
    "Tabla de resumen:\n",
    "\n",
    "| Término | Jugador | Descripción | Valor inicial |\n",
    "| ------- | ------- | ----------- | ------------- |\n",
    "| $\\alpha$  | Max  |Mejor puntuación (más alta) garantizada para MAX a lo largo del camino actual.         |$-\\infty$          |\n",
    "| $\\beta$  | Min  |Mejor puntuación (más baja) garantizada para MIN a lo largo del camino actual.        |$+\\infty$           |\n"
   ]
  },
  {
   "cell_type": "markdown",
   "id": "03184aa8",
   "metadata": {},
   "source": [
    "### **3. Algoritmo detallado: pseudocódigo**"
   ]
  },
  {
   "cell_type": "markdown",
   "id": "9619b67d",
   "metadata": {},
   "source": [
    "El siguiente pseudocódigo ilustra la lógica fundamental de la búsqueda con poda Alfa-Beta:"
   ]
  },
  {
   "cell_type": "markdown",
   "id": "07ac70b5",
   "metadata": {
    "vscode": {
     "languageId": "latex"
    }
   },
   "source": [
    "\n",
    "\\begin{equation} \\nonumber\n",
    "\\begin{array}{l}\n",
    "\\text{Input: Root MAX node } J \\leftarrow s \\\\\n",
    "\\text{Output: Optimal Minimax Value } V(J). \\\\\n",
    "\\\\\n",
    "\\text{1. if } J \\text{ is terminal then return } V(J) = e(J). \\\\\n",
    "\\text{2. for } k = 1, 2, \\ldots, b: \\\\\n",
    "\\hspace{10pt} \\text{1. Generate } J_k \\text{ the } k\\text{-th successor of } J \\\\\n",
    "\\hspace{10pt} \\text{2. Evaluate } V(J_k) \\; \\text{[recursive call]} \\\\\n",
    "\\hspace{10pt} \\text{3. if } k = 1, \\text{ set } CV(J) \\leftarrow V(J_1) \\\\\n",
    "\\hspace{10pt} \\text{4. else:} \\\\\n",
    "\\hspace{20pt} \\text{1. if } J \\text{ is MAX then set } CV(J) \\leftarrow \\max[CV(J), V(J_k)] \\\\\n",
    "\\hspace{20pt} \\text{2. if } J \\text{ is MIN then set } CV(J) \\leftarrow \\min[CV(J), V(J_k)] \\\\\n",
    "\\text{3. return } V(J) = CV(J)\n",
    "\\end{array}\n",
    "\\end{equation}\n",
    "\n"
   ]
  },
  {
   "cell_type": "markdown",
   "id": "11b23343",
   "metadata": {},
   "source": [
    "### **4. Poda Alpha-Beta en el contexto de Pacman**"
   ]
  },
  {
   "cell_type": "markdown",
   "id": "ee3c4514",
   "metadata": {},
   "source": [
    "En el contexto de Pacman, la poda de alpha-beta se utiliza para determinar el mejor movimiento de pacman considerando las respuestas de los fantasmas. Pacman es el jugador max $($ tratando de obtener el $score$ más alto $)$ y los fantasmas son los jugadores min $($ tratando de terminar el juego o minimizar el $score$ de pacman $)$."
   ]
  },
  {
   "cell_type": "markdown",
   "id": "06043289",
   "metadata": {},
   "source": [
    "* **Evaluación de estado:** \n",
    "A cada estado del juego, es decir, donde está pacman, los fantasmas, la comida restante, etc. Se le asigna una puntuación mediante una función de avaluación explicada posteriormente. La poda alpha-beta utiliza estas puntuaciones para decidir qué partes del árbol del juego explorar.  \n",
    "\n",
    "En nuestra implementación, la función `alphabeta` toma el estado actual del juego, la profundidad de búsqueda deseada, alpha, beta y el jugador actual, ya esa como Min o Max.  \n",
    "Durante la búsqueda, si alpha se vuelve mayor o igual a beta, significa que la rama actual puede ser podada. Esto se debe a que el jugador max ya ha encontrado un movimiento que garantiza una puntuación mayor o igual a alpha y el jugador min ya ha encontrado un movimiento que garantiza una puntuación menor o igual a beta. Si $\\alpha \\geq \\beta$, la posición actual no puede ser el resultado del mejor juego de ambos jugadores y, por lo tanto, no necesita ser explorada más a fondo.  \n",
    "\n",
    "\n",
    "<div align=\"center\">\n",
    "<h1>Alpha-Beta<h1>\n",
    "    <img src=\"../fotos/alpha_beta_funcion.png\" style=\"width: 1300px;\">\n",
    "</div>\n",
    "\n"
   ]
  },
  {
   "cell_type": "markdown",
   "id": "ead54a7c",
   "metadata": {},
   "source": [
    "Con sus respectivos jugadores de Min y Max:  \n",
    "  \n",
    "\n",
    "<div style=\"width: 100%; text-align: center;\">\n",
    "    <div style=\"float: none; display: inline-block;\">\n",
    "    <h1>Max<h1>\n",
    "        <img src=\"../fotos/alpha_beta_funcion_max.png\" style=\"width: 900px;\">\n",
    "    </div>\n",
    "    <div style=\"float: none; display: inline-block;\">\n",
    "    <h1> Min <h1>\n",
    "        <img src=\"../fotos/alpha_beta_funcion_min.png\" style=\"width: 900px;\">\n",
    "    </div>\n",
    "</div>\n",
    "\n",
    "\n"
   ]
  },
  {
   "cell_type": "markdown",
   "id": "398a2133",
   "metadata": {},
   "source": [
    "### **5. Beneficios de Alpha-Beta**"
   ]
  },
  {
   "cell_type": "markdown",
   "id": "baf88938",
   "metadata": {},
   "source": [
    "*   **Espacio de búsqueda reducido:** Reduce significativamente el número de nodos a evaluar en el árbol de búsqueda en comparación con el minimax simple.  \n",
    "\n",
    "*   **Decisiones más rápidas:** Conduce a una toma de decisiones más rápida, especialmente en juegos con grandes factores de ramificación o requisitos de búsqueda profunda.  \n",
    "*   **Viabilidad para búsquedas más profundas:** Permite búsquedas más profundas dentro de los mismos límites de tiempo computacional, lo que potencialmente lleva a un mejor juego.    \n",
    "  \n",
    "\n",
    "Aquí un ejemplo de la poda de alpha-beta respecto a minimax normal (Los nodos rojos son Max y los azules Min), todo esto con profundidad $4$:  \n",
    "\n",
    "<div style=\"width: 100%; text-align: center;\">\n",
    "<h1> AlphaBeta<h1>\n",
    "    <div style=\"float: none; display: inline-block;\">\n",
    "        <img src=\"../fotos/alphabeta.png\" style=\"width: 900px;\">\n",
    "    </div>\n",
    "   <h1> Minimax<h1>\n",
    "    <div style=\"float: none; display: inline-block;\">\n",
    "        <img src=\"../fotos/minimax.png\" style=\"width: 900px;\">\n",
    "    </div>\n",
    "</div>"
   ]
  },
  {
   "cell_type": "markdown",
   "id": "df2a367d",
   "metadata": {},
   "source": [
    "### **6. Inconvenientes**"
   ]
  },
  {
   "cell_type": "markdown",
   "id": "01e96faf",
   "metadata": {},
   "source": [
    "*   **Complejidad:** El algoritmo es ligeramente más complejo de implementar que el minimax simple debido a la gestión de los valores alfa y beta.  \n",
    "*   **Dependencia del orden de los movimientos:** La efectividad de la poda depende en gran medida del orden en que se examinan los nodos posteriores. Si se examinan buenos movimientos tempranos, ocurre más poda.\n",
    "*   **Necesidad de una buena función de evaluación:** El rendimiento de la poda alfa-beta en pacman depende críticamente de la función de evaluación. Si la función no evalúa con el estado del juego, el algoritmo podría tomar decisiones subóptimas. Por ejemplo, una función de evaluación que solo considera la puntuación podría llevar a pacman a una trampa si no pondera también factores como la proximidad a los fantasmas, la distancia a la comida más cercana o si las cápsulas están activas. Una buena función de evaluación en pacman debería considerar:  \n",
    "\n",
    "    *   Puntuación actual del juego.\n",
    "    *   Distancia a los fantasmas.  \n",
    "\n",
    "    *   Distancia a la comida más cercana.\n",
    "    *   Número de cápsulas restantes.\n",
    "    *   Estado de las cápsulas.\n",
    "    *   Si el estado actual es una victoria o una derrota."
   ]
  }
 ],
 "metadata": {
  "kernelspec": {
   "display_name": "venv",
   "language": "python",
   "name": "python3"
  },
  "language_info": {
   "codemirror_mode": {
    "name": "ipython",
    "version": 3
   },
   "file_extension": ".py",
   "mimetype": "text/x-python",
   "name": "python",
   "nbconvert_exporter": "python",
   "pygments_lexer": "ipython3",
   "version": "3.12.3"
  }
 },
 "nbformat": 4,
 "nbformat_minor": 5
}
