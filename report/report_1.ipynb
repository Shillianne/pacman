{
 "cells": [
  {
   "cell_type": "markdown",
   "id": "1528c473",
   "metadata": {},
   "source": [
    "<font size=\"10\">\n",
    "    <div align=\"center\">\n",
    "        Técnicas y algoritmos de búsqueda\n",
    "    </div>\n",
    "</font>\n",
    "<font size=\"6\">\n",
    "    <div align=\"center\">\n",
    "        Informe de la práctica 3\n",
    "    </div>\n",
    "    <br>\n",
    "\n",
    "</font>\n",
    "<font size=\"5\">\n",
    "    <div align=\"center\">\n",
    "        Gabriel Niculescu Ruso \n",
    "    </div>\n",
    "    <div align=\"center\">\n",
    "        Carlos Molera Canals\n",
    "    </div>\n",
    "    <div align=\"center\">\n",
    "        Jose Francisco Pérez Mompeán\n",
    "    </div>\n",
    "</font>\n",
    "<font size=\"5\">\n",
    "    <div align=\"right\">\n",
    "        29/05/2025\n",
    "    </div>\n",
    "</font>\n"
   ]
  },
  {
   "cell_type": "markdown",
   "id": "86c266bd",
   "metadata": {},
   "source": [
    "<div>\n",
    "    <hi><font size=\"9\"><strong>Index</strong></font></hi>\n",
    "    <ol>\n",
    "        <li><font size=\"4\">Alpha-Beta</font></li>\n",
    "        <li><font size=\"4\">Tabla de transposición</font></li>\n",
    "        <li><font size=\"4\">Función de Evaluación</font></li>\n",
    "        <li><font size=\"4\">La red</font></li>\n",
    "        <li><font size=\"4\">Testing</font></li>\n",
    "    </ol>\n",
    "</div>"
   ]
  },
  {
   "cell_type": "markdown",
   "id": "c8d655b1",
   "metadata": {},
   "source": [
    "## **3. FUNCIÓN DE EVALUACIÓN**"
   ]
  },
  {
   "cell_type": "markdown",
   "id": "b48ff337",
   "metadata": {},
   "source": [
    "Una vez expuestas las metodologías empleadas en términos de ejercer la búsqueda, cabe señalar cuál es la función de evaluación en base a que estas últimas se nutren y apoyan. De manera concreta, a lo largo de esta sección se explorarán los siguientes apartados componentes:\n",
    "\n",
    "<ol>\n",
    "    <li>\n",
    "        <strong>Introducción sobre los parámetros</strong>\n",
    "    </li>\n",
    "    <li>\n",
    "        <strong>Explicación de las secciones</strong>\n",
    "    </li>\n",
    "    <li>\n",
    "        <strong>La salida</strong>\n",
    "    </li>\n",
    "</ol>"
   ]
  },
  {
   "cell_type": "markdown",
   "id": "66e87e3b",
   "metadata": {},
   "source": [
    "### **3.1 Introducción sobre los parámetros**"
   ]
  },
  {
   "cell_type": "markdown",
   "id": "6417316a",
   "metadata": {},
   "source": [
    "Con relación a los parámetros de que nuestra función de evaluación se compone, podemos encontrar los que siguen:\n",
    "\n",
    "**1.list_of_moves** **$\\rightarrow$ list[str]**\n",
    "\n",
    "Se expone como una lista componente en los últimos cuatro movimientos que Pacman ha desarrollado y que estarán codificados en términos de cadenas de texto en representación de los puntos cardinales. Con objeto de justificar su existencia de forma escuesta, encontramos que esta remite a la necesidad de escape frente a un bucle de movimientos que de manera posterior se explicará.<br><br>\n",
    "\n",
    "\n",
    "**2.ghost_heat_map** **$\\rightarrow$ dict[tuple[int,...], np.ndarray]**\n",
    "\n",
    "Es un diccionario cuyas llaves codificarán las distintas posiciones que puede ocupar el fantasma y los valores denotarán el espectro de influencia que los enemigos pueden tener ante el layout que se ha seleccionado en la inicialización del agente con esa configuración posicional concreta. <br><br>\n",
    "\n",
    "**3.current_heat_map** **$\\rightarrow$ np.ndarray**\n",
    "\n",
    "Es un array dispuesto para la evaluación de la peligrosidad estática de las celdas libres asociadas al mapa que hemos escogido en la llamada al Agente. De esta manera pues, localizamos que junto con el parámetro anterior lo que modelaremos será una métrica dinámica en representación de la peligrosidad relativa de las distintas posiciones que Pacman va adoptando.<br><br>\n",
    "\n",
    "\n",
    "**4.original_food** **$\\rightarrow$ list[int]**\n",
    "\n",
    "Es un array en representación del número de capsulas de comida de que cada una de las particiones del mapa es componente; división espacial la cual se presentará más adelante. No obstante, cabe señalar que la aplicabilidad directa de este atributo ha sido derogada en base a una serie de razones inherentes al descarte del cálculo de las fuerzas que veremos posteriormente.<br><br>\n",
    "\n",
    "\n",
    "**5.state** **$\\rightarrow$ GameState**\n",
    "\n",
    "Es una representación del estado actual del juego que nos permitirá el acceso a parámetros utilitarios tales como la posición de Pacman o la de los fantasmas,  e incluso valores como la puntuación y distribución global de la comida  para el ply con que trabajamos."
   ]
  },
  {
   "cell_type": "markdown",
   "id": "aeaf711e",
   "metadata": {},
   "source": [
    "<div align = center>\n",
    "    <img src = '../fotos/eval_function_init.png'>\n",
    "</div>"
   ]
  },
  {
   "cell_type": "markdown",
   "id": "d426a580",
   "metadata": {},
   "source": [
    "### **3.2 Explicación de las secciones**"
   ]
  },
  {
   "cell_type": "markdown",
   "id": "b6342364",
   "metadata": {},
   "source": [
    "Tal y como habíamos dejado entreveer anteriormente, existen una serie de secciones en base a las cuales se construirá el cálculo final de nuestra función encargada de ejercer una evaluación sobre el estado actual.\n",
    "\n",
    "Cabe señalar, no obstante, que se omitirá la parte del código referente a la obtención de las posiciones de los fantasmas y de Pacman en tanto que de manera explícita ya ha sido mencionado el cómo de su obtención anteriormente.\n",
    "\n"
   ]
  },
  {
   "cell_type": "markdown",
   "id": "6be335e1",
   "metadata": {},
   "source": [
    "#### ·<u>***SECURITY***</u>\n",
    "\n",
    "En esta sección lo que se buscará es calcular la distribución de peligrosidad en el mapa bajo el que trabajamos de tal forma que cada una de las casillas libres quede ponderada de base por un determinado factor de peligrosidad. \n",
    "\n",
    "Distinguimos dos partes claras en el proceso:<BR><br>\n",
    "\n",
    "\n",
    "**MAPA TOPOLÓGICO ESTÁTICO**</u>\n",
    "\n",
    "De cara a lograr todo esto, encontramos que en primer lugar se generó un mapa de calor en representación del riesgo estático que a cada una  de las distintas zonas del grid se asociaba.\n",
    "\n",
    "En lo que refiere a la construcción de dicha estructura, de manera particular se atribuyó un valor de peligrosidad $k \\in \\left\\{0,5\\right\\}$ a cada una de las celdas y que vino dado en base a un criterio que inequívocamente se había de apoyar sobre la información topológica. \n",
    "\n",
    "Con objeto de explicar cuál ha sido este criterio espacial, localizamos que ha tenido su fundamento en el número de opciones posibles de movimiento con que Pacman contaba en cada momento. Consecuentemente, encontramos que las intersecciones entre caminos se presentarán como las zonas más seguras topológicamente, mientras que a medida que nos vamos acercando a las esquinas, dicho valor de seguridad va decrementado hasta que estas últimas son alcanzadas.\n",
    "\n",
    "No obstante, también cabe señalar cuál es el modelo de evolución de la puntuación. En primer lugar, encontramos que, tal y como hemos mencionado, a las intersecciones se les atribuirá una puntuación de peligrosidad 0 que irá incrementando a medida que nos acerquemos a los extremos del mapa. Dicha ponderación crecerá hasta un valor que vendrá condicionado por la longitud del recorrido actual hasta las esquinas y que habrá de estar en concordancia con el flujo de puntuación que llega por parte de las otras vía de  comunicación. \n",
    "\n",
    "Si bien puede resultar confuso, veamos el siguiente ejemplo:\n",
    "\n"
   ]
  },
  {
   "cell_type": "markdown",
   "id": "dd25a4d5",
   "metadata": {},
   "source": [
    "<div align = center>\n",
    "    <img src = '../fotos/eval_mapa_calor.png'>\n",
    "</div>"
   ]
  },
  {
   "cell_type": "markdown",
   "id": "d6ffe87b",
   "metadata": {},
   "source": [
    "Como podemos observar, el valor mínimo irá progresando y creciendo en base a la metodología que anteriormente hemos descrito. No obstante, y entendiendo el mapa como un sistema recorrido por un fluido, si tenemos dos fuentes generadoras del mismo, llegará un punto en que ambas se encuentren y tengan que igualar fuerzas. Cabe señalar a su vez que el avance por cada una de las distintas fuentes (círculos blancos) se  produce a la misma velocidad y en todas las direcciones que los movimientos legales de Pacman permitan en cada momento. \n",
    "\n",
    "En esencia, lo que se pretendía recalcar con esta aclaración es el hecho de que por cuestiones de simetría los valores mínimos de seguridad que dentro del dominio definido se encuadran no siempre van a ser alcanzables en las esquinas.\n"
   ]
  },
  {
   "cell_type": "markdown",
   "id": "799552f2",
   "metadata": {},
   "source": [
    "**COMPONENTE DINÁMICA**\n",
    "\n",
    "Expresado lo anterior, y dado que pretendíamos ejercer una evaluación global del peligro, se expuso como necesario el considerar el impacto que la presencia de los enemigos o fantasmas podría llegar a tener sobre la metodología de puntuación que en el primer apartado se ha establecido. \n",
    "\n",
    "Con ello, entenderemos al tipo fantasma como un campo con algún tipo de energía dispuesta y que,  a  medida que se va desplazando sobre las casillas ponderadas en base a la topología, va alterando su valor. Al igual que sucede en campos definidos en términos formales, el impacto o potencia del mismo irá variando a medida que nos vayamos alejando del foco emisor. Si bien campos como el eléctrico tienen un potencial que es cero en el infinito, lo que pretendíamos modelar era más el efecto de sumidero de peligrosidad  que el ceñirnos a lo que sería correcto desde un punto de vista teórico. \n",
    "\n",
    "Consecuentemente, encontramos que generaremos un modelado de rango de influencia limitado $r$, centrado en el fanstasma y cuyo valor variará en voluntad de adaptarse a la geometría y dimensiones de cada uno de los mapas dispuestos. Veamos pues una pareja de ejemplos de lo que el efecto de dicho fantasma supone en elecciones de grid distintas en una misma posición:<br><br>\n",
    "\n",
    "\n",
    "<center><strong>1.MAPA MEDIUM CLASSIC</strong></center>\n",
    "\n",
    "<center><strong>2.MAPA TRICKY CLASSIC</strong></center>"
   ]
  },
  {
   "cell_type": "markdown",
   "id": "406b85d9",
   "metadata": {},
   "source": [
    "<div align = center>\n",
    "    <img src ='../fotos/eval_ghosts_pos.png'>\n",
    "\n",
    "</div>\n",
    "\n"
   ]
  },
  {
   "cell_type": "markdown",
   "id": "c36de554",
   "metadata": {},
   "source": [
    "Tal y como podemos observar, el rango de influencia o de impacto entre ambos mapas se expone como distinto del mismo modo que también lo son sus dimensiones; siendo  estas más elevadas en el mapa que presenta un mayor tamaño."
   ]
  },
  {
   "cell_type": "markdown",
   "id": "fc968cde",
   "metadata": {},
   "source": [
    "Finalmente, y en voluntad de exponer cómo dicho campo actúa sobre la evaluación estática antes ejercida, entendemos que simplemente se presentará como una combinación lineal de valores, esto es, una suma de los arrays representados en ambas metodologías de ponderación.\n",
    "\n",
    "Sea pues esta la fórmula que codifica el valor de cada una de las celdas finales:<br><br>\n",
    "\n",
    "$$\\text{Final danger} = \\text{Static Danger + Dynamic Danger}$$\n",
    "\n",
    "\n",
    "\n",
    "Veamos a continuación un ejemplo de dicho impacto combinado para un fantasma centrado en la posición $(2,1)$ y bajo la elección del mapa $\\text{Medium Classic}$. No obstante, antes de proseguir cabe señalar que el origen de coordenadas se encuentra en la esquina superior izquierda del grid:\n"
   ]
  },
  {
   "cell_type": "markdown",
   "id": "02ddb453",
   "metadata": {},
   "source": [
    "<div align = center>\n",
    "    <img src ='../fotos/eval_dynamic_vs_static.png'>\n",
    "\n",
    "</div>"
   ]
  },
  {
   "cell_type": "markdown",
   "id": "41e58535",
   "metadata": {},
   "source": [
    "Como podemos observar, en la posición de centrado en el mapa izquierdo ha incrementado la peligrosidad como producto del impacto generado por parte de la presencia del fantasma; así como también lo ha hecho en las zonas que dentro de su rango de influencia se encuentran. Cabe matizar a su vez que la distribución de colores varía al atender a un nuevo máximo como producto de la introducción del dinamismo a la evaluación."
   ]
  },
  {
   "cell_type": "markdown",
   "id": "4d51e7ef",
   "metadata": {},
   "source": [
    "**CÓDIGO**\n"
   ]
  },
  {
   "cell_type": "markdown",
   "id": "e7b57dd2",
   "metadata": {},
   "source": [
    "Finalmente, cabe señalar que los diccionarios que codifican los distintos mapas de calor estáticos y dinámicos estarán almacenados en un formato pickle para facilitar su carga desde el agente y su inyección como parámetro a la función de evaluación.\n",
    "\n",
    "Matizado esto último, veamos una imagen asociada al código que ha sido empleado para desempeñar la tarea presentada en líneas anteriores:\n"
   ]
  },
  {
   "cell_type": "markdown",
   "id": "d1e4468b",
   "metadata": {},
   "source": [
    "\n",
    "<div align = center>\n",
    "    <img src ='../fotos/eval_security.png'>\n",
    "\n",
    "</div>"
   ]
  },
  {
   "cell_type": "markdown",
   "id": "912bf291",
   "metadata": {},
   "source": [
    "#### ·<u>***MEAN-DANGER-CURRENT-QUADRANT***</u>"
   ]
  },
  {
   "cell_type": "markdown",
   "id": "f6551be8",
   "metadata": {},
   "source": [
    "A lo largo de esta sección lo que se buscará es el determinar la peligrosidad media de la comida presente en la división del mapa dentro de la cual Pacman se encuentra en el ply actual. \n",
    "\n",
    "Con ello, localizamos que los apartados construidos de cara a ejercer dicha labor son los que siguen:\n"
   ]
  },
  {
   "cell_type": "markdown",
   "id": "b3031995",
   "metadata": {},
   "source": [
    "**DIVIDIENDO EL ESPACIO**\n"
   ]
  },
  {
   "cell_type": "markdown",
   "id": "b9a587a4",
   "metadata": {},
   "source": [
    "Tal y como mencionábamos en la sección referente a la presentación de los parámetros, el mapa sufrirá una división en cuatro secciones o cuadrantes que atenderán a una partición esquitativa del espacio fundamentada bajo el trabajo con las dimensiones del layout. \n",
    "\n",
    "Si tomamos por ejemplo un $Layout = (x,y)$, entonces los valores en base a los cuales se van a segregar los cuadrantes serán los que siguen:\n",
    "\n",
    "$$h = \\lceil\\frac{x}{2} \\rceil $$\n",
    "$$w = \\lceil\\frac{y}{2} \\rceil $$\n",
    "\n",
    "\n"
   ]
  },
  {
   "cell_type": "markdown",
   "id": "a490d15e",
   "metadata": {},
   "source": [
    "<div align = center>\n",
    "    <table>\n",
    "        <tr align=center>\n",
    "            <td align=center> <strong>CUADRANTE<strong></td>\n",
    "            <td> <strong>CONDICIÓN X<strong></td>\n",
    "            <td> <strong>CONDICIÓN Y<strong></td>\n",
    "        </tr>\n",
    "        <tr align=center>\n",
    "            <td> 1</td>\n",
    "            <td> x less than h </td>\n",
    "            <td> y less than w </td>\n",
    "        </tr>\n",
    "        <tr align=center>\n",
    "            <td> 2</td>\n",
    "            <td> x more equal than h </td>\n",
    "            <td> y less than w </td>\n",
    "        </tr>\n",
    "        <tr align=center>\n",
    "            <td> 3</td>\n",
    "            <td> x more equal than h </td>\n",
    "            <td> y more equal than w </td>\n",
    "        </tr>\n",
    "        <tr align=center>\n",
    "            <td> 4</td>\n",
    "            <td> x less than h </td>\n",
    "            <td> y more equal than w </td>\n",
    "        </tr>\n",
    "    </table>\n",
    "</div>"
   ]
  },
  {
   "cell_type": "markdown",
   "id": "bcf4c4ec",
   "metadata": {},
   "source": [
    "Una imagen asociada a dicha división en cuadrantes representada sobre el mapa mediumClassic sería la que sigue:\n",
    "\n",
    "<div align = center>\n",
    "    <img src ='../fotos/eval_quadrants.png'>\n",
    "\n",
    "</div>"
   ]
  },
  {
   "cell_type": "markdown",
   "id": "58dee7b9",
   "metadata": {},
   "source": [
    "**¿EN QUÉ CUADRANTE ESTÁ PACMAN?**\n",
    "\n",
    "\n",
    "Construida dicha partición, habremos de determinar cuál es el cuadrante concreto en que se encuentra Pacman en voluntad de poder ejercer el cálculo sobre la media de peligrosidad de las celdas de comida que localmente lo rodean. \n",
    "\n",
    "La justificación de la elección del cuadrante actual para este cálculo es que la función de evaluación adquiere un carácter estático y confiamos en la capacidad de la búsqueda para encontrar evaluaciones de Pacman en otros cuadrantes a medida que esta progresa.\n",
    "\n"
   ]
  },
  {
   "cell_type": "markdown",
   "id": "35653f80",
   "metadata": {},
   "source": [
    "**MEDIA DE LA PELIGROSIDAD DE LA COMIDA DEL CUADRANTE**\n",
    "\n",
    "Simplemente se construirá como el sumatorio del riesgo dinámico asociado a cada una de las celdas con comida del cuadrante en que Pacman se encuentra actualmente partido por el total de este tipo de celdas. Sea por ejemplo el cuadrante $1$ con un total de $16$ celdas no vacías y un sumatorio de peligrosidad construido de la siguiente manera:\n",
    "\n",
    "$$n_{celdas} = 16$$\n",
    "$$danger = \\sum_{i = 1}^{n_{celdas}}\\text{mapa de peligrosidad}\\ [i]$$\n",
    "\n",
    "$$\\text{Mean of danger}\\ (\\mu) = \\frac{danger}{n_{celdas}}$$\n",
    "\n",
    "\n",
    "Cabe señalar que el mapa de peligrosidad codifica la combinación del riesgo estático y dinámico que de manera anterior hemos expuesto.\n"
   ]
  },
  {
   "cell_type": "markdown",
   "id": "b31c971f",
   "metadata": {},
   "source": [
    "**CONCLUSIÓN Y VÍNCULO**\n",
    "\n",
    "En conclusión, esta métrica nos permitirá aplicar la concepción de seguridad desarrollada en el apartado anterior, a la par que obtener un estimador insesgado como es el de la media muestral para ponderar cómo de bueno es el cuadrante que actualmente ocupo en términos de la comida que en el mismo se encuadra. \n",
    "\n",
    "Valores muy elevados de peligrosidad media establecerán una alta voluntad de transición  hacia otros cuadrantes, mientras que términos más reducidos computarán el que se entienda el estado actual como uno no desfavorable.\n"
   ]
  },
  {
   "cell_type": "markdown",
   "id": "beabe778",
   "metadata": {},
   "source": [
    "#### ·<u>***LOOKING FOR DENSITY***</u>\n"
   ]
  },
  {
   "cell_type": "markdown",
   "id": "c42df46b",
   "metadata": {},
   "source": [
    "Tal y como habíamos mencionado anteriormente, la consideración que ejerce la función de evaluación se desarrolla desde un punto de vista estático y por ende se tomará con respecto al cuadrante en que actualmente Pacman se encuentra.\n",
    "\n",
    "Si bien antes hemos considerado la peligrosidad asociada a la distribución de la  comida en la región donde nos hayamos, otro de los factores relevantes del juego se presenta como la cantidad de la misma que somos capaces de comer en el menor tiempo posible. De ahí pues que surja la  necesidad de ponderar cuál es el punto caliente donde esta última está concentrada. \n",
    "\n"
   ]
  },
  {
   "cell_type": "markdown",
   "id": "28f8b6cc",
   "metadata": {},
   "source": [
    "**CENTROIDE**\n",
    "\n",
    "Hilando lo descrito anteriormente, la categorización de la bondad de una posición dentro del cuadrante será, además de mi seguridad como jugador, la cercanía respecto a una mayor cantidad de cápsulas o de comida. \n",
    "\n",
    "Puesto que necesitábamos como tal considerar el impacto de la totalidad de las cápsulas sobre la posición actual, se decidió tomar una medida o equivalencia de la influencia que todas estas tienen en conjunto. Con ello, decidimos que el cálculo del centroide de la distribución de las cápsulas se presentaba como idóneo puesto que nos permitía considerar un punto caliente único que era media de la posición de todas las cápsulas pertenecientes a la división actual.\n",
    "\n",
    "Sea pues la siguiente fórmula empleada para su cálculo y asumiendo la disposición de un set de comida  $S \\left\\{(x,y), \\forall x,y \\in \\N ^+ \\right\\}$ en el cuadrante actual:\n",
    "\n",
    "$$\\text{Centroid}\\ (x_c, y_c) = \\frac{\\sum_{i = 1}^{|S|} S_i}{|N|} \\in \\N^+$$\n",
    "\n",
    "De esta manera, disponemos de una heurística o guía que nos permite dictaminar de forma dinámica cuál es ese punto en el cual tengo más posibilidades de alcanzar una mayor cantidad de cápsulas. Dicha atribución del adjetivo \"dinámico\" radica en que se irá actualizando a medida que vayamos consumiendo y por ende desplazándose hacia las zonas de mayor densidad o interés.\n",
    "\n"
   ]
  },
  {
   "cell_type": "markdown",
   "id": "cd7a5de0",
   "metadata": {},
   "source": [
    "<div align = center>\n",
    "    <img src ='../fotos/eval_centroid.jpg'>\n",
    "\n",
    "</div>"
   ]
  },
  {
   "cell_type": "markdown",
   "id": "7326a67d",
   "metadata": {},
   "source": [
    "**DISTANCIA DE MANHATTAN**\n",
    "\n",
    "Una vez obtenido dicho valor, se computará el desplazamiento horizontal y vertical ideal respecto al centroide calculado de manera previa, esto es, la Distancia de Manhattan. Con ello, lo que pretenderemos penalizar es el estar alejados de ese punto caliente que sobre la distribución de comida se ha generado.\n",
    "\n",
    "$$Manhattan(a,b) = |a_x - b_x| + |a_y - b_y|$$\n",
    "Cabe señalar a su vez que en el cálculo de dicha distancia no se ha tenido en consideración la existencia de obstáculos físicos de ningún tipo y por ende la métrica obtenida es un ideal que se aleja de la realidad en ese aspecto. \n",
    "\n",
    "En el caso de la imagen anterior por ejemplo, la distancia de Manhattan respecto al centroide se presentaría como de $2$; penalización la cual se expondría como muy reducida dada la proximidad al foco de comida de la partición."
   ]
  },
  {
   "cell_type": "markdown",
   "id": "56ea3082",
   "metadata": {},
   "source": [
    "#### ·<u>***REPEATING MOVES***</u>\n",
    "\n"
   ]
  },
  {
   "cell_type": "markdown",
   "id": "0925b054",
   "metadata": {},
   "source": [
    "La existencia de esta sección surge en la materia que Pacman cae en ciertas ocasiones en un bucle de movimientos del tipo **north-south** o **west-east** que repite hasta que un fantasma se encuentra lo suficientemente cerca como para romperlo.\n",
    "\n",
    "Las causas exactas de este fenómeno no son claras ni definidas, pero tenemos las siguientes hipótesis:\n",
    "\n",
    "\n",
    "1. El centroide cae en lugares centrales del cuadrante al estar distribuida la comida por los extremos del mismo y por ende Pacman queda atrapado en dicha posición.\n",
    "\n",
    "2. Si queda poca o ninguna comida en el cuadrante y Pacman está alejado de otras particiones, la búsqueda no tiene la suficiente profundidad como para determinar el estado del jugador en los cuadrantes distantes. Consecuentemente, no le queda otra opción más que moverse de forma incoherente o  repetir movimientos en bucle. \n",
    "\n",
    "\n",
    "\n",
    "**SOLUCIÓN**\n",
    "\n",
    "Con voluntad de paliar esto último, y tal y como mencionábamos en la inicialización, hemos atribuido al hecho de que se repitan secuencias de movimientos una penalización de tal forma que se descarten las ramas en que estos últimos se producen.\n",
    "\n",
    "No obstante, hay que tener cuidado con este tipo de castigo. La razón fundamental para la exigencia de prudencia es que, de ser muy severa la penalización, Pacman considerará como una opción menos mala el ser comido por un fantasma y por ende finalizar el juego. Si bien todo este razonamiento era la idea inicial, la aplicación práctica no ha terminado de ser fructífera en el aspecto para el cual fue creada. \n",
    "\n"
   ]
  },
  {
   "cell_type": "markdown",
   "id": "aa9a53be",
   "metadata": {},
   "source": [
    "<div align = center>\n",
    "    <img src ='../fotos/eval_repeating_movs.png'>\n",
    "\n",
    "</div>"
   ]
  },
  {
   "cell_type": "markdown",
   "id": "2bd357bd",
   "metadata": {},
   "source": [
    "#### ·<u>***REWARDING FOOD***</u>\n"
   ]
  },
  {
   "cell_type": "markdown",
   "id": "bc367cc3",
   "metadata": {},
   "source": [
    "Con voluntad de incidir más profundamente sobre una idea que de manera implícita hemos estado desarrollando, diríamos que el  juego de Pacman en esencia se presenta como un equilibrio. Es la búsqueda de un balance constante entre ingerir toda la comida presente y aguantar lo máximo posible con vida en la partida, teniendo la victoria como objetivo último.\n",
    "\n",
    "En lo que respecta al segundo de los aspectos, y gracias a las funciones desarrolladas en términos de la evaluación de la peligrosidad, estamos bien cubiertos. No obstante, necesitamos de un catalizador en lo que el consumo de comida refiere y que no se limite únicamente a la acción atractora del centroide del cuadrante concreto que antes habíamos presentado, sino al ejercicio de medidas más directas. De ahí surge pues el desarrollo de esta sección.\n",
    "\n",
    "\n",
    "**LA IDEA**\n",
    "\n",
    "El concepto bajo el que este fragmento de la función de evaluación se define es muy concreto y directo: si estás cerca de cápsulas de comida, eventualmente las acabarás alcanzando y por ende tu posición se evaluará como positiva en una cierta medida que de manera empírica se ha ajustado.\n",
    "\n",
    "No obstante, y a modo de contrapunto, también se evaluará de manera negativa la cantidad de comida que en el mapa resta para alentar a Pacman a que no pare de comer hasta que dicho decremento de puntuación sea reducido.\n",
    "\n",
    "Expuesto lo anterior, entendemos que este fragmento será el que, de manera  complementaria a **Looking for density**, permita el que se premie no solo estar en un área donde la densidad de comida sea elevada, sino que también se dé mérito al que yo, como jugador, esté cerca de ella y  me la acabe comiendo. \n",
    "\n",
    "En esencia, la función **Looking for density** es un indicador acerca de  hacia dónde nos debemos dirigir en el mapa y el fragmento asociado a **Rewarding Food** es el que, dentro de esa zona a que hemos sido guiados, nos incita a comer las cápsulas.\n"
   ]
  },
  {
   "cell_type": "markdown",
   "id": "fdd5eb87",
   "metadata": {},
   "source": [
    "<div align = center>\n",
    "    <img src ='../fotos/eval_rewarding_food.png'>\n",
    "\n",
    "</div>"
   ]
  },
  {
   "cell_type": "markdown",
   "id": "5e94f305",
   "metadata": {},
   "source": [
    "<!-- <div align = center>\n",
    "    <img src ='../fotos/eval_rewarding_food.png'>\n",
    "\n",
    "</div> -->"
   ]
  },
  {
   "cell_type": "markdown",
   "id": "86fe7081",
   "metadata": {},
   "source": [
    "#### ·<u>***LAS FUERZAS***</u>\n",
    "\n",
    "Si bien el modelado de fuerzas es una idea que finalmente ha sido descartada, se presta como interesante al menos mencionarla. \n",
    "\n",
    "Dada la consideración de los centroides que a los distintos cuadrantes se atribuyen como sumideros o atractores, resulta coherente el que todos ellos tiren  de Pacman con una cierta fuerza. Será la resultante de todas ellas la que actúe como una guía de la dirección o cuadrante concreto hacia el cual nos tenemos que desplazar.\n",
    "\n",
    "En términos de expresar esto último, se tomó la $\\text{Ley de Gravitación Universal}$ en ausencia de la constante de Gravitación Universal y con algunas modificaciones:\n",
    "\n",
    "$$F = \\frac{\\text{Densidad comida}^{-1}}{\\text{Distancia Centroide}^2}$$\n",
    "\n",
    "Tal y como podemos observar, en lugar de ponderar el producto de las masas en el numerador, consideramos a Pacman como una masa unitaria y lo escalamos por la inversa de la densidad de comida en el cuadrante sobre el cual se está calculando la fuerza. De esta manera, lo que estamos primando es que el jugador finalize con la comida en el cuadrante presente antes de que la partición más cercana y distinta de la actual tire hacia él con una mayor intensidad.\n",
    "\n",
    "Si bien resultaba una idea interesante, han sido las dificultades de modelar algo con estricta coherencia en el numerador las que han conllevado inevitablemente a su descarte. <br><br>\n"
   ]
  },
  {
   "cell_type": "markdown",
   "id": "62ad61a9",
   "metadata": {},
   "source": [
    "### **3.3 La salida**"
   ]
  },
  {
   "cell_type": "markdown",
   "id": "0fbc8881",
   "metadata": {},
   "source": [
    "Una vez hemos desarrollado cada uno de los términos componentes de la función de evaluación, cabe expresar cómo se calculará la salida o valor de retorno de la misma. Atendamos pues a la siguiente fotografía:"
   ]
  },
  {
   "cell_type": "markdown",
   "id": "82f11fa3",
   "metadata": {},
   "source": [
    "<div align = center>\n",
    "    <img src ='../fotos/eval_output.png'>\n",
    "\n",
    "</div>"
   ]
  },
  {
   "cell_type": "markdown",
   "id": "dbf03305",
   "metadata": {},
   "source": [
    "Tal y como podemos observar, encontramos una correlación entre los apartados componentes descritos y las variables de salida:\n",
    "\n",
    "\n",
    "**1.Score**\n",
    "\n",
    "Se corresponde con el valor de la puntuación que de manera interna el juego genera para nuestro estado actual. Es una métrica que por nuestra parte no es modificable.<br><br>\n",
    "\n",
    "\n",
    "\n",
    "**2.Manhattan_to_pacman_centroid**\n",
    "\n",
    "Se corresponde con el apartado **LOOK FOR DENSITY** y se encargará de penalizar linealmente la distancia existente respecto al centroide del cuadrante en que Pacman se encuentra. Con ello, encontramos que su valor será sustraído del de la puntuación global con una ponderación de uno. \n",
    "\n",
    "Si bien puede resultar arbitrario el escalado o valor  de dicho módulo, al representar  la Distancia de Manhattan ideal respecto al centroide, hemos considerado que empíricamente se tornaba  como adecuado o no excesivamente grande como para forzar comportamientos de manera brusca.<br><br>\n",
    "\n",
    "\n",
    "**3.Mean of danger**\n",
    "\n",
    "Atiende al apartado de **MEAN-DANGER-CURRENT-QUADRANT** y se encargará de penalizar con un factor de escalado de uno la peligrosidad media de las celdas con comida que el cuadrante actual componen. \n",
    "\n",
    "Dado que el riesgo asociado a las posiciones es un valor $V \\in [0,10]$ vía la acción de los fantasmas en el peor de los casos y con una geometría de mapa favorable, se torna como adecuado el sustraer dicha magnitud  linealmente al equipararse en el límite alcanzable con la recompensa que la ingesta de una unidad de comida trae consigo.\n",
    "\n",
    "Cabe señalar que dicho caso límite de sustracción se dará única y exclusivamente en situaciones donde solo reste una cápsula, que se encuentre en la posición más peligrosa del cuadrante y que el fantasma esté sobre ella. <br><br>\n",
    "\n",
    "\n",
    "\n",
    "**4 Pos_eval**\n",
    "\n",
    "Responde al apartado **SECURITY** y se tornará como el decremento del score del estado actual en la  magnitud  de pos_eval con un factor de escalado de $2$. Con ello, lo que pretenderemos modelar es el que Pacman evite o conciba como negativo el encontrarse en posiciones que pueden poner en riesgo la continuidad de la partida. \n",
    "\n",
    "Con objeto de justificar dicho factor de escalado, localizamos que lo que se pretenden impulsar es que si el fantasma está próximo o si la posición ya de por sí es lo suficientemente mala, no nos interesa el arriesgarnos a consumir dicho valor de comida. Por ejemplo, si contamos con una posición evaluada como $5$ en términos de peligrosidad, directamente se cancela la presencia de una comida; así como si el fantasma se encuentra próximo a Pacman, la situación se torna incluso como menos favorable.<br><br> \n",
    "\n",
    "\n",
    "\n",
    "**5. Devaluation**\n",
    "\n",
    "Este apartado actúa un poco como un cajón de sastre y aglutina tanto la penalización desarrollada por parte de la repetición de movimientos, como la relajación de esta última acontecida vía la función **Rewarding Food**. En términos de clarificar esto último, consideremos la siguiente fórmula\n",
    "\n",
    "$$A: \\text{aporte de penalización de movimientos}$$\n",
    "$$B: \\text{aporte de recompensa por comida}$$\n",
    "\n",
    "\n",
    "$$ \\text{devaluation} = A + B$$\n",
    "\n",
    "\n",
    "Dado que el módulo de devaluation es tomado en la función de forma negativa, lo que vamos a buscar en todo momento es maximizarlo, esto es, - minimizarlo o acercarlo lo máximo posible a 0. De esta manera, lo que se preconizará es que, dado un aporte  positivo por parte de A, lo suministrado por B sea lo más grande posible en términos de módulo pero con signo negativo. \n",
    "\n",
    "Con objeto de conseguir ese caso ideal en que lo sustraído en  la resultante se presenta como mínimo, se ha de satisfacer el que la proximidad a la comida se exponga como máxima y la cantidad restante de ella se denote como el mínimo modelable; factores los cuales son inherentes a la sección **REWARDING FOOD** determinada previamente.\n",
    "\n",
    "\n",
    "En esencia, lo que se busca con este valor fruto de una acción combinada es el suavizar el impacto que una situación poco usual puede tener en términos de puntuación y que por ende mayoritariamente representará el aporte resultante positivo de la bondad de una posición en base a los criterios expuestos de manera previa. \n",
    "\n",
    "Considerando pues el fenómeno de la repetición de movimientos como algo eventual, encontramos que los espectros en que se moverán los valores de este término modelado estarán acotados inferiormente por comida distante y la existencia de gran cantidad de ella y un valor máximo que responderá al hecho de que solo reste una cápsula y esta sea próxima a mí.\n",
    "\n",
    "\n",
    "\n",
    "\n",
    "\n",
    "\n"
   ]
  },
  {
   "cell_type": "markdown",
   "id": "ac47e8c6",
   "metadata": {},
   "source": [
    "## **4. RED**\n",
    "\n",
    "En el apartado correspondiente a la red neuronal se tratarán los siguientes apartados componentes:\n",
    "\n",
    "\n",
    "<ol>\n",
    "    <li>\n",
    "       ¿Cómo hemos construido la red?\n",
    "    </li>\n",
    "    <li>\n",
    "        ¿Cómo hemos entrenado la red?\n",
    "    </li>\n",
    "    <li>\n",
    "        ¿Qué nos retorna la red?\n",
    "    </li>\n",
    "    <li>\n",
    "        Problemas generados por la red\n",
    "    </li>\n",
    "</ol>\n",
    "\n",
    "\n"
   ]
  },
  {
   "cell_type": "markdown",
   "id": "53739382",
   "metadata": {},
   "source": [
    "#### **1. ¿CÓMO HEMOS CONSTRUIDO LA RED?** "
   ]
  },
  {
   "cell_type": "markdown",
   "id": "222f157b",
   "metadata": {},
   "source": [
    "#### **2. ¿CÓMO HEMOS ENTRENADO LA RED?**"
   ]
  },
  {
   "cell_type": "markdown",
   "id": "bd74416a",
   "metadata": {},
   "source": [
    "#### **3. ¿QUÉ NOS RETORNA LA RED?**"
   ]
  },
  {
   "cell_type": "markdown",
   "id": "7265d3f1",
   "metadata": {},
   "source": [
    "#### **4. PROBLEMAS GENERADOS POR LA RED**"
   ]
  },
  {
   "cell_type": "markdown",
   "id": "52eb0a12",
   "metadata": {},
   "source": [
    "## **5. TESTING**\n",
    "\n",
    "Expuestas todas las secciones previas, cabe presentar una serie de pruebas que responderán a los siguientes apartados:\n",
    "\n",
    "\n",
    "<ol>\n",
    "    <li>\n",
    "        Diferencia de tiempos \n",
    "    </li>\n",
    "    <li>\n",
    "        Prueba con semillas distintas\n",
    "    </li>\n",
    "</ol>"
   ]
  },
  {
   "cell_type": "markdown",
   "id": "b2a76037",
   "metadata": {},
   "source": [
    "### **5.1 DIFERENCIA DE TIEMPOS**\n",
    "\n",
    "Atendiendo a la implementación de MiniMax, así como la de Alpha-Beta (que implementa de por sí MiniMax) y el enfoque la Tabla de Transposición; se planteará la ejecución de una serie de pruebas en voluntad de determinar las diferencias temporales existentes entre las distintas configuraciones generables.\n",
    "\n",
    "Con objecto de fundar las pruebas a realizar, localizamos que cada posible combinación se ejecutará un total de 10 ocasiones por profundidad de búsqueda seleccionada y la métrica temporal resultante se presentará como la media muestral de los tiempos acontecidos por cada profundidad de búsqueda $a$ / $a \\in [1,6]$. Cabe señalar a su vez que trabajaremos bajo una **semilla fija (32)** y que las posibles configuraciones generables de metodologías serán las que siguen:\n",
    "\n",
    "1. MiniMax \n",
    "2. Alpha-Beta\n",
    "3. Tabla de Transposición\n",
    "\n",
    "\n",
    "A modo de ser rigurosos con la métrica de medida empleada, cabe señalar que la media muestral se presenta como un estimador insesgado de una muestra de datos extraída de una población de individuos que no conocemos en su totalidad. Con ello, encontramos que su desarrollo matemático es el que sigue para un set de muestra $S$:\n",
    "\n",
    "$$S = \\ \\left\\{x_1, x_2, x_3,...,x_n\\right\\}$$\n",
    "\n",
    "$$\\hat{\\mu} = \\frac{1}{|S|}\\sum_{i = 1}^{|S|} x_i$$\n",
    "\n"
   ]
  },
  {
   "cell_type": "markdown",
   "id": "3c9ec809",
   "metadata": {},
   "source": [
    "#### ·<u>***TABLA  REPRESENTATIVA***</u>"
   ]
  },
  {
   "cell_type": "markdown",
   "id": "6813c5d7",
   "metadata": {},
   "source": [
    "Expuestos los fundamentos del experimento, cabe presentar una gráfica en representación de la evolución del consumo temporal medio por profundidad para cada una de las distintas configuraciones adoptadas. Si bien se especifica en la imagen, el eje de abscisas corresponderá con la profundidad de búsqueda tomada en plys y el de ordenadas aludirá a la cantidad de tiempo consumido en segundos por cada set de prueba. Véase pues la siguiente fotografía:\n",
    "\n"
   ]
  },
  {
   "cell_type": "markdown",
   "id": "ff81e2c6",
   "metadata": {},
   "source": [
    "<div align = center>\n",
    "    <img src ='../fotos/tests_grafica_tiempos.png'>\n",
    "\n",
    "</div>"
   ]
  },
  {
   "cell_type": "markdown",
   "id": "81665113",
   "metadata": {},
   "source": [
    "Tal y como podemos observar en el caso del eje de ordenadas, entendemos que su rango de valores ha sido sometido a un escalado logarítmico. Dicha operación se justifica ante la explosión en materia de tiempos que se desarrolla para profundidades de búsqueda crecientes y que implican que valores reducidos de las mismas acaben por proyectarse directamente sobre el eje. Consecuentemente, y dado que lo que pretendemos es poder observar las diferencias existentes entre configuraciones, dicha transformación se presenta como necesaria."
   ]
  },
  {
   "cell_type": "markdown",
   "id": "328fb3f0",
   "metadata": {},
   "source": [
    "#### ·<u>***CONCLUSIONES SOBRE OBSERVACIONES***</u>"
   ]
  },
  {
   "cell_type": "markdown",
   "id": "7b631b49",
   "metadata": {},
   "source": [
    "A modo de justificación de los resultados obtenidos de manera gráfica, entendemos que estos remiten a la cantidad de nodos o de estados concretos que las estrategias  necesitan visitar. Con ello, encontramos que el ránking asociado al peor rendimiento es el sigue:<br><br>\n",
    "\n",
    "\n",
    "**1.MINIMAX**\n",
    "\n",
    "Se presenta sin duda como la peor de las configuraciones adoptadas y expone un significativo incremento temporal respecto a las alternativas restantes. Dicho aumento o retardo viene justificado por la necesidad del algoritmo de explorar todas y cada una de las ramas del árbol a generar, no pudiendo descartar bifurcaciones no prometedoras o que claramente no conducen a ninguna jugada óptima.<br><br>\n",
    "\n",
    "\n",
    "\n",
    "**2.ALPHA-BETA**\n",
    "\n",
    "Será  en el panorama expuesto por parte de MiniMax que Alpha-Beta actúe como agente enriquecedor y  permita al primero podar o evitar visitar aquellas ramas dentro del árbol del búsqueda que, en base a criterios internos, no favorezcan el encontrar una jugada óptima. Dicho papel es el que queda reflejado en la gráfica de tiempos donde la caída  respecto a MiniMax es ciertamente significativa.<br><br>\n",
    "\n",
    "\n",
    "**3.TABLA DE TRANSPOSICIÓN**\n",
    "\n",
    "Finalmente, acudimos a la mejor de las opciones en términos temporales, esto es, la Tabla de Transposición. Es esa mejora acontecida la que viene dada por un almacenaje de los estados previos que provoca que, a medida que profundizamos en el árbol, es más probable que nos topemos ante situaciones que de manera previa ya habían sido computadas y guardadas; hecho el cual supone una reducción significativa del coste temporal.<br><br>"
   ]
  },
  {
   "cell_type": "markdown",
   "id": "edc9c934",
   "metadata": {},
   "source": [
    "### **5.2 PRUEBAS CON SEMILLAS DISTINTAS**\n",
    "\n",
    "Con voluntad de evaluar cuantitativamente los resultados arrojados por parte de Pacman, atenderemos a la ejecución del código bajo diez semillas distintas como son las que siguen:\n",
    "\n",
    "$$Seeds = [912, 871, 3199, 3471, 2207, 1710, 1852, 2536, 581, 3333]$$\n",
    "\n",
    "\n",
    "Para cada una de las  semillas se elaborará un semiapartado componente en una serie de puntos como son los que siguen:\n",
    "\n",
    "1. Puntuación\n",
    "2. Estado final \n",
    "3. Tiempo consumido \n",
    "\n",
    "\n",
    "Cabe señalar que la configuración empleada para desempeñar la prueba se presentará como el uso combinado de Alpha-Beta y la Tabla de Transposición."
   ]
  },
  {
   "cell_type": "markdown",
   "id": "818ce437",
   "metadata": {},
   "source": [
    "#####   **<u>Seed 912</u>**\n",
    "\n",
    "1. Puntuación $\\rightarrow$ 1961 puntos\n",
    "\n",
    "2. Estado final $\\rightarrow$ win\n",
    "\n",
    "3. Tiempo consumido $\\rightarrow$ 15.079 s"
   ]
  },
  {
   "cell_type": "markdown",
   "id": "41ab6404",
   "metadata": {},
   "source": [
    "#####   **<u>Seed 871</u>**\n",
    " \n",
    "1. Puntuación $\\rightarrow$ 864\n",
    "\n",
    "2. Estado final $\\rightarrow$ lose\n",
    "\n",
    "3. Tiempo consumido $\\rightarrow$ 10.01 s"
   ]
  },
  {
   "cell_type": "markdown",
   "id": "caff11c8",
   "metadata": {},
   "source": [
    "#####   **<u>Seed 3199</u>**\n",
    "\n",
    "1. Puntuación $\\rightarrow$ 1714\n",
    "\n",
    "2. Estado final $\\rightarrow$ win\n",
    "\n",
    "3. Tiempo consumido $\\rightarrow$ 9.627323865890503"
   ]
  },
  {
   "cell_type": "markdown",
   "id": "45c9e488",
   "metadata": {},
   "source": [
    "#####   **<u>Seed 3471</u>**\n",
    "\n",
    "1. Puntuación $\\rightarrow$ 453\n",
    "\n",
    "2. Estado final $\\rightarrow$ lose\n",
    "\n",
    "3. Tiempo consumido $\\rightarrow$ 5.883488178253174"
   ]
  },
  {
   "cell_type": "markdown",
   "id": "c8375247",
   "metadata": {},
   "source": [
    "#####   **<u>Seed 2207</u>**\n",
    "\n",
    "1. Puntuación $\\rightarrow$ 524\n",
    "\n",
    "2. Estado final $\\rightarrow$ lose\n",
    "\n",
    "3. Tiempo consumido $\\rightarrow$ 7.363305568695068"
   ]
  },
  {
   "cell_type": "markdown",
   "id": "aa75bfbc",
   "metadata": {},
   "source": [
    "#####   **<u>Seed 1710</u>**\n",
    "\n",
    "1. Puntuación $\\rightarrow$ 858\n",
    "\n",
    "2. Estado final $\\rightarrow$ lose\n",
    "\n",
    "3. Tiempo consumido $\\rightarrow$ 10.581985473632812"
   ]
  },
  {
   "cell_type": "markdown",
   "id": "eed8fbf0",
   "metadata": {},
   "source": [
    "#####   **<u>Seed 1852</u>**\n",
    "\n",
    "1. Puntuación $\\rightarrow$ -177\n",
    "\n",
    "2. Estado final $\\rightarrow$ lose\n",
    "\n",
    "3. Tiempo consumido $\\rightarrow$ 4.405104398727417"
   ]
  },
  {
   "cell_type": "markdown",
   "id": "10a6d987",
   "metadata": {},
   "source": [
    "#####   **<u>Seed 2536</u>**\n",
    "\n",
    "1. Puntuación $\\rightarrow$ 1077\n",
    "\n",
    "2. Estado final $\\rightarrow$ lose\n",
    "\n",
    "3. Tiempo consumido $\\rightarrow$ 9.871320009231567"
   ]
  },
  {
   "cell_type": "markdown",
   "id": "873ae691",
   "metadata": {},
   "source": [
    "#####   **<u>Seed 581</u>**\n",
    "\n",
    "1. Puntuación $\\rightarrow$ 1769\n",
    "\n",
    "2. Estado final $\\rightarrow$ win\n",
    "\n",
    "3. Tiempo consumido $\\rightarrow$ 13.471442699432373"
   ]
  },
  {
   "cell_type": "markdown",
   "id": "f5989800",
   "metadata": {},
   "source": [
    "#####   **<u>Seed 3333</u>**\n",
    "\n",
    "1. Puntuación $\\rightarrow$ 62\n",
    "\n",
    "2. Estado final $\\rightarrow$ lose\n",
    "\n",
    "3. Tiempo consumido $\\rightarrow$ 6.8131937980651855"
   ]
  },
  {
   "cell_type": "markdown",
   "id": "a40dffe6",
   "metadata": {},
   "source": [
    "#####   **CIERRE**\n"
   ]
  },
  {
   "cell_type": "markdown",
   "id": "61d344d1",
   "metadata": {},
   "source": [
    "Como producto de los resultados anteriores podemos extraer una pareja de  métricas en representación del **win-rate** y la **puntuación media** obtenidos para las diez partidas jugadas. A su vez, cabe señalar que el espacio muestral generado para los estados finales se codifica como una cadena binaria $S$ tal que las victorias se representen como un $1$ y las derrotas como un $0$:\n",
    "\n",
    "$$S = \\left\\{1,0,1,0,0,0,0,0,1,0\\right\\}$$\n",
    "\n",
    "\n",
    "$$\\text{Win-Rate} = \\frac{1}{|S|}\\sum_{i = 1}^{|S|} S_i = \\frac{1}{3}$$\n",
    "<br><br>\n",
    "\n",
    "\n",
    "$$\\text{puntuacion partida} = \\left\\{1961, 864, 1714, 453, 524, 858, -177, 1077, 1769, 62 \\right\\}$$\n",
    "$$\\text{Puntuación media} = \\frac{1}{\\text{total partidas}} \\sum_{i = 1}^{10} \\text{(puntuacion partida)}_i = 910.5\\ puntos $$"
   ]
  }
 ],
 "metadata": {
  "kernelspec": {
   "display_name": "base",
   "language": "python",
   "name": "python3"
  },
  "language_info": {
   "codemirror_mode": {
    "name": "ipython",
    "version": 3
   },
   "file_extension": ".py",
   "mimetype": "text/x-python",
   "name": "python",
   "nbconvert_exporter": "python",
   "pygments_lexer": "ipython3",
   "version": "3.13.2"
  }
 },
 "nbformat": 4,
 "nbformat_minor": 5
}
